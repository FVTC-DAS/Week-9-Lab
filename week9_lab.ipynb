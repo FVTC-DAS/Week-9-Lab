{
 "cells": [
  {
   "cell_type": "markdown",
   "id": "01d556ec",
   "metadata": {},
   "source": [
    "\n",
    "# Week 9 Lab — Working with Dictionaries\n",
    "\n",
    "**Goal:** Practice creating and working with dictionaries, including accessing, modifying, and iterating over key–value pairs.\n",
    "\n",
    "Complete **all three tasks** below. Keep your code simple—no advanced features needed.\n"
   ]
  },
  {
   "cell_type": "markdown",
   "id": "baab6c07",
   "metadata": {},
   "source": [
    "\n",
    "## Task 1 — Create and Access\n",
    "\n",
    "**Instructions**\n",
    "1. Create a dictionary named `movie` that describes your favorite movie. Include at least three key–value pairs such as `title`, `director`, and `release_year`.\n",
    "2. Print the entire dictionary.\n",
    "3. Print just the value associated with the `title` key.\n"
   ]
  },
  {
   "cell_type": "code",
   "execution_count": null,
   "id": "b935fea4",
   "metadata": {},
   "outputs": [],
   "source": [
    "# TODO: Create the 'movie' dictionary with at least three key–value pairs\n",
    "movie = {\n",
    "    # Example keys: 'title': '...', 'director': '...', 'release_year': 2000\n",
    "}\n",
    "\n",
    "# TODO: Print the entire dictionary\n",
    "\n",
    "\n",
    "# TODO: Print the value for the 'title' key\n"
   ]
  },
  {
   "cell_type": "markdown",
   "id": "25c1fd6d",
   "metadata": {},
   "source": [
    "\n",
    "## Task 2 — Modify and Add\n",
    "\n",
    "**Instructions** (use the same `movie` dictionary from Task 1)\n",
    "\n",
    "1. Add a new key–value pair for `rating` (e.g., `\"PG-13\"`).\n",
    "\n",
    "2. Change the value of `release_year` to a different year.\n",
    "\n",
    "3. Print the final, modified dictionary.\n"
   ]
  },
  {
   "cell_type": "code",
   "execution_count": null,
   "id": "ce51cbe8",
   "metadata": {},
   "outputs": [],
   "source": [
    "# TODO: Add a 'rating' key to the existing movie dictionary\n",
    "\n",
    "\n",
    "# TODO: Change the 'release_year' to a different year\n",
    "\n",
    "\n",
    "# TODO: Print the final, modified dictionary\n"
   ]
  },
  {
   "cell_type": "markdown",
   "id": "b9ba9a38",
   "metadata": {},
   "source": [
    "\n",
    "## Task 3 — Nested Data\n",
    "\n",
    "**Instructions**\n",
    "\n",
    "1. Create a list of dictionaries called `class_roster`.\n",
    "\n",
    "2. Each dictionary should represent a student with two keys: `name` and `grade`.\n",
    "\n",
    "3. Add at least **three** student dictionaries to the list.\n",
    "\n",
    "4. Write a `for` loop that iterates through `class_roster` and prints each student's name and grade using an f-string.\n",
    "\n"
   ]
  },
  {
   "cell_type": "code",
   "execution_count": null,
   "id": "f9a1c2a4",
   "metadata": {},
   "outputs": [],
   "source": [
    "# TODO: Create the list of dictionaries called 'class_roster' with at least three students\n",
    "class_roster = [\n",
    "    # Example: {'name': 'Ava', 'grade': 92}\n",
    "]\n",
    "\n",
    "# TODO: Loop through class_roster and print \"Name: <name>, Grade: <grade>\"\n",
    "# HINT: use f-strings, e.g., f\"Name: {student['name']}, Grade: {student['grade']}\"\n",
    "\n"
   ]
  },
  {
   "cell_type": "markdown",
   "id": "d283b9ac",
   "metadata": {},
   "source": [
    "\n",
    "---\n",
    "\n",
    "### Final Checklist\n",
    "- [ ] Task 1 complete: `movie` dictionary created; printed dict and `title` value.\n",
    "- [ ] Task 2 complete: added `rating`, updated `release_year`, printed final dict.\n",
    "- [ ] Task 3 complete: built `class_roster` and printed each student's name and grade.\n",
    "- [ ] Committed with message like `feat: Complete Week 9 lab` and pushed to GitHub.\n"
   ]
  }
 ],
 "metadata": {},
 "nbformat": 4,
 "nbformat_minor": 5
}
